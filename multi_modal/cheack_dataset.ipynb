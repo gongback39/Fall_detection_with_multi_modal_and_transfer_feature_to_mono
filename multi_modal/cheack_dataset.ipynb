{
 "cells": [
  {
   "cell_type": "code",
   "execution_count": 1,
   "metadata": {},
   "outputs": [],
   "source": [
    "from dataset import create_dataloaders\n",
    "\n",
    "train_loader = create_dataloaders(\"../data/Training/01.원천데이터\", batch_size=8, test_ratio = 0, image_size=160, workers=4)\n",
    "val_loader = create_dataloaders( \"../data/Validation/01.원천데이터\", batch_size=8, test_ratio = 0, image_size=160, workers=4)"
   ]
  },
  {
   "cell_type": "code",
   "execution_count": 2,
   "metadata": {},
   "outputs": [
    {
     "name": "stdout",
     "output_type": "stream",
     "text": [
      "torch.Size([8, 3, 10, 160, 160]) torch.Size([8, 12, 10, 9]) torch.Size([8, 1])\n"
     ]
    }
   ],
   "source": [
    "for img, sensor, label in train_loader:\n",
    "    print(img.shape, sensor.shape, label.float().unsqueeze(1).shape)\n",
    "    break"
   ]
  }
 ],
 "metadata": {
  "kernelspec": {
   "display_name": "ds",
   "language": "python",
   "name": "python3"
  },
  "language_info": {
   "codemirror_mode": {
    "name": "ipython",
    "version": 3
   },
   "file_extension": ".py",
   "mimetype": "text/x-python",
   "name": "python",
   "nbconvert_exporter": "python",
   "pygments_lexer": "ipython3",
   "version": "3.11.7"
  }
 },
 "nbformat": 4,
 "nbformat_minor": 2
}
