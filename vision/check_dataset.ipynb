{
 "cells": [
  {
   "cell_type": "code",
   "execution_count": 2,
   "metadata": {},
   "outputs": [
    {
     "ename": "ValueError",
     "evalue": "not enough values to unpack (expected 3, got 2)",
     "output_type": "error",
     "traceback": [
      "\u001b[0;31m---------------------------------------------------------------------------\u001b[0m",
      "\u001b[0;31mValueError\u001b[0m                                Traceback (most recent call last)",
      "Cell \u001b[0;32mIn[2], line 7\u001b[0m\n\u001b[1;32m      3\u001b[0m data_dir \u001b[38;5;241m=\u001b[39m \u001b[38;5;124m'\u001b[39m\u001b[38;5;124m../data/Validation/01.원천데이터/이미지\u001b[39m\u001b[38;5;124m'\u001b[39m\n\u001b[1;32m      5\u001b[0m train_dataloader \u001b[38;5;241m=\u001b[39m create_dataloaders(data_dir, test_ratio \u001b[38;5;241m=\u001b[39m \u001b[38;5;241m0\u001b[39m, batch_size\u001b[38;5;241m=\u001b[39m\u001b[38;5;241m8\u001b[39m, image_size \u001b[38;5;241m=\u001b[39m \u001b[38;5;241m160\u001b[39m)\n\u001b[0;32m----> 7\u001b[0m \u001b[38;5;28;01mfor\u001b[39;00m video_frames, labels, bbox_labels \u001b[38;5;129;01min\u001b[39;00m train_dataloader:\n\u001b[1;32m      8\u001b[0m     \u001b[38;5;28mprint\u001b[39m(\u001b[38;5;124mf\u001b[39m\u001b[38;5;124m\"\u001b[39m\u001b[38;5;124m[Train] 비디오 시퀀스 크기: \u001b[39m\u001b[38;5;132;01m{\u001b[39;00mvideo_frames\u001b[38;5;241m.\u001b[39mshape\u001b[38;5;132;01m}\u001b[39;00m\u001b[38;5;124m, 레이블: \u001b[39m\u001b[38;5;132;01m{\u001b[39;00mlabels\u001b[38;5;132;01m}\u001b[39;00m\u001b[38;5;124m\"\u001b[39m)\n\u001b[1;32m      9\u001b[0m     \u001b[38;5;28;01mbreak\u001b[39;00m\n",
      "\u001b[0;31mValueError\u001b[0m: not enough values to unpack (expected 3, got 2)"
     ]
    }
   ],
   "source": [
    "from dataset_for_fact_CNN import create_dataloaders\n",
    "\n",
    "data_dir = '../data/Validation/01.원천데이터/이미지'\n",
    "\n",
    "train_dataloader = create_dataloaders(data_dir, test_ratio = 0, batch_size=8, image_size = 160)\n",
    "\n",
    "for video_frames, labels in train_dataloader:\n",
    "    print(f\"[Train] 비디오 시퀀스 크기: {video_frames.shape}, 레이블: {labels}\")\n",
    "    break"
   ]
  },
  {
   "cell_type": "code",
   "execution_count": 3,
   "metadata": {},
   "outputs": [
    {
     "name": "stdout",
     "output_type": "stream",
     "text": [
      "[Train] 비디오 시퀀스 크기: torch.Size([8, 3, 10, 160, 160]), 레이블: tensor([1, 0, 0, 0, 1, 0, 1, 1])\n"
     ]
    }
   ],
   "source": [
    "for video_frames, labels in train_dataloader:\n",
    "    print(f\"[Train] 비디오 시퀀스 크기: {video_frames.shape}, 레이블: {labels}\")\n",
    "    break"
   ]
  }
 ],
 "metadata": {
  "kernelspec": {
   "display_name": "DL",
   "language": "python",
   "name": "python3"
  },
  "language_info": {
   "codemirror_mode": {
    "name": "ipython",
    "version": 3
   },
   "file_extension": ".py",
   "mimetype": "text/x-python",
   "name": "python",
   "nbconvert_exporter": "python",
   "pygments_lexer": "ipython3",
   "version": "3.11.7"
  }
 },
 "nbformat": 4,
 "nbformat_minor": 2
}
