{
 "cells": [
  {
   "cell_type": "code",
   "execution_count": 1,
   "metadata": {},
   "outputs": [],
   "source": [
    "import torch\n",
    "from vision_model import R2Plus1DNet\n",
    "from vision_model import val"
   ]
  },
  {
   "cell_type": "code",
   "execution_count": 2,
   "metadata": {},
   "outputs": [
    {
     "name": "stdout",
     "output_type": "stream",
     "text": [
      "Using cuda device\n"
     ]
    }
   ],
   "source": [
    "DEVICE = (\n",
    "    \"cuda\"\n",
    "    if torch.cuda.is_available()\n",
    "    else \"mps\"\n",
    "    if torch.backends.mps.is_available()\n",
    "    else \"cpu\"\n",
    ")\n",
    "print(f\"Using {DEVICE} device\")\n",
    "\n",
    "checkpoint = torch.load(\"24_12_13.pth\", map_location=DEVICE)\n",
    "model = R2Plus1DNet(num_classes=1).to(DEVICE)\n",
    "model.load_state_dict(checkpoint['model_state_dict'])\n",
    "criterion = torch.nn.BCEWithLogitsLoss()"
   ]
  },
  {
   "cell_type": "code",
   "execution_count": 3,
   "metadata": {},
   "outputs": [],
   "source": [
    "from dataset_for_fact_CNN import create_dataloaders\n",
    "\n",
    "data_dir = '../data/Validation/01.원천데이터/이미지'\n",
    "val_dataloader = create_dataloaders(data_dir, test_ratio = 0, batch_size=8, image_size = 160, workers=4)"
   ]
  },
  {
   "cell_type": "code",
   "execution_count": 4,
   "metadata": {},
   "outputs": [
    {
     "name": "stderr",
     "output_type": "stream",
     "text": [
      "100%|██████████| 284/284 [07:07<00:00,  1.51s/it]"
     ]
    },
    {
     "name": "stdout",
     "output_type": "stream",
     "text": [
      "Confusion Matrix:\n",
      "[[ 544.   24.]\n",
      " [  15. 1689.]]\n",
      "True Negative: 544.0, False Positive: 24.0, False Negative: 15.0, True Positive: 1689.0\n",
      "Precision: 0.9860\n",
      "Recall: 0.9912\n",
      "F1 Score: 0.9886\n",
      "Validation Loss: 0.1000, Validation Accuracy: 98.28%\n"
     ]
    },
    {
     "name": "stderr",
     "output_type": "stream",
     "text": [
      "\n"
     ]
    }
   ],
   "source": [
    "avg_val_loss, val_acc, cm = val(model, val_dataloader, criterion, DEVICE)"
   ]
  }
 ],
 "metadata": {
  "kernelspec": {
   "display_name": "proj_24_2",
   "language": "python",
   "name": "python3"
  },
  "language_info": {
   "codemirror_mode": {
    "name": "ipython",
    "version": 3
   },
   "file_extension": ".py",
   "mimetype": "text/x-python",
   "name": "python",
   "nbconvert_exporter": "python",
   "pygments_lexer": "ipython3",
   "version": "3.11.7"
  }
 },
 "nbformat": 4,
 "nbformat_minor": 2
}
